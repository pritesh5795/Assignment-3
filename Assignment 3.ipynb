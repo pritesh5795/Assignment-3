{
 "cells": [
  {
   "cell_type": "code",
   "execution_count": 1,
   "id": "a8acfa36",
   "metadata": {},
   "outputs": [],
   "source": [
    "#Q.1 Why are functions advantageous to have in your programs?\n",
    "#Ans. This make programe easy to read and understand. no need to write code again and again. function takes multiple inputs. \n",
    "#     it reduces the need for duplicate code."
   ]
  },
  {
   "cell_type": "code",
   "execution_count": 2,
   "id": "f781a0e8",
   "metadata": {},
   "outputs": [],
   "source": [
    "#Q.2 When does the code in a function run: when it's specified or when it's called?\n",
    "#Ans. when its called."
   ]
  },
  {
   "cell_type": "code",
   "execution_count": 3,
   "id": "eb78bda0",
   "metadata": {},
   "outputs": [],
   "source": [
    "#Q.3 What statement creates a function?\n",
    "#Ans. the 'def' keyword."
   ]
  },
  {
   "cell_type": "code",
   "execution_count": 4,
   "id": "d782afd4",
   "metadata": {},
   "outputs": [],
   "source": [
    "#Q.4 What is the difference between a function and a function call?\n",
    "#Ans. function = to give perticular output\n",
    "#     function call = to perform any task"
   ]
  },
  {
   "cell_type": "code",
   "execution_count": 5,
   "id": "082d5a75",
   "metadata": {},
   "outputs": [],
   "source": [
    "#Q.5 How many global scopes are there in a Python program? How many local scopes?\n",
    "#Ans. there is only one global scope per program execution. also one local python scope."
   ]
  },
  {
   "cell_type": "code",
   "execution_count": 6,
   "id": "02828a25",
   "metadata": {},
   "outputs": [],
   "source": [
    "#Q.6 What happens to variables in a local scope when the function call returns?\n",
    "#Ans. no longer exist."
   ]
  },
  {
   "cell_type": "code",
   "execution_count": 1,
   "id": "9cdbf740",
   "metadata": {},
   "outputs": [],
   "source": [
    "#Q.7 What is the concept of a return value? Is it possible to have a return value in an expression?\n",
    "#Ans. Use the return statement to make your functions send Python objects back to the caller code.It is not possible to have a return value in an expression."
   ]
  },
  {
   "cell_type": "code",
   "execution_count": 6,
   "id": "0256c87f",
   "metadata": {},
   "outputs": [],
   "source": [
    "#Q.8 If a function does not have a return statement, what is the return value of a call to that function?\n",
    "#Ans. None"
   ]
  },
  {
   "cell_type": "code",
   "execution_count": 7,
   "id": "0dc4a582",
   "metadata": {},
   "outputs": [],
   "source": [
    "#Q.9 How do you make a function variable refer to the global variable?\n",
    "#Ans. we need to declare a global variable or declare this is global variable."
   ]
  },
  {
   "cell_type": "code",
   "execution_count": 8,
   "id": "4c298897",
   "metadata": {},
   "outputs": [],
   "source": [
    "#Q.10 What is the data type of None?\n",
    "#Ans. no value."
   ]
  },
  {
   "cell_type": "code",
   "execution_count": 1,
   "id": "6028802f",
   "metadata": {},
   "outputs": [],
   "source": [
    "#Q.11 What does the sentence import areallyourpetsnamederic do?\n",
    "#Ans. that import a module named areallyourpetsnamederic."
   ]
  },
  {
   "cell_type": "code",
   "execution_count": 2,
   "id": "50f5cf06",
   "metadata": {},
   "outputs": [],
   "source": [
    "#Q.12 If you had a bacon() feature in a spam module, what would you call it after importing spam?\n",
    "#Ans. spam.bacon()"
   ]
  },
  {
   "cell_type": "code",
   "execution_count": 3,
   "id": "1e98bee0",
   "metadata": {},
   "outputs": [],
   "source": [
    "#Q.13 What can you do to save a programme from crashing if it encounters an error?\n",
    "#Ans. by using exception handling."
   ]
  },
  {
   "cell_type": "code",
   "execution_count": null,
   "id": "0fa704a3",
   "metadata": {},
   "outputs": [],
   "source": [
    "#Q.14 What is the purpose of the try clause? What is the purpose of the except clause?\n",
    "#Ans. try block is used to check code for error. \n",
    "#     except block execute when program encounter some errorin try block. "
   ]
  }
 ],
 "metadata": {
  "kernelspec": {
   "display_name": "Python 3 (ipykernel)",
   "language": "python",
   "name": "python3"
  },
  "language_info": {
   "codemirror_mode": {
    "name": "ipython",
    "version": 3
   },
   "file_extension": ".py",
   "mimetype": "text/x-python",
   "name": "python",
   "nbconvert_exporter": "python",
   "pygments_lexer": "ipython3",
   "version": "3.9.7"
  }
 },
 "nbformat": 4,
 "nbformat_minor": 5
}
